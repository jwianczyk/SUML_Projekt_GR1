{
 "cells": [
  {
   "cell_type": "code",
   "id": "initial_id",
   "metadata": {
    "collapsed": true,
    "ExecuteTime": {
     "end_time": "2024-06-22T19:09:35.834349Z",
     "start_time": "2024-06-22T19:09:35.831645Z"
    }
   },
   "source": [
    "import pandas as pd\n",
    "import numpy as np\n",
    "import torch\n",
    "import torch.nn as nn\n",
    "import torch.optim as optim\n",
    "import torch.nn.functional as F\n",
    "from torch.utils.data import DataLoader, TensorDataset, random_split"
   ],
   "outputs": [],
   "execution_count": 17
  },
  {
   "cell_type": "code",
   "source": [
    "df = pd.read_csv('../data/Expanded_data_with_more_features.csv')\n",
    "df = df.drop(columns=['Unnamed: 0'])\n",
    "device = torch.device('cpu')"
   ],
   "metadata": {
    "collapsed": false,
    "ExecuteTime": {
     "end_time": "2024-06-22T19:09:36.439526Z",
     "start_time": "2024-06-22T19:09:36.411285Z"
    }
   },
   "id": "af294e8815fe305f",
   "outputs": [],
   "execution_count": 18
  },
  {
   "cell_type": "code",
   "source": [
    "# Setting categorical features as numbers and removing NaN's by calculating mean value \n",
    "for column in df.columns:\n",
    "    df[column] = df[column].astype('category').cat.codes\n",
    "    df[column] = df[column].fillna(df[column].mean())"
   ],
   "metadata": {
    "collapsed": false,
    "ExecuteTime": {
     "end_time": "2024-06-22T19:09:36.884890Z",
     "start_time": "2024-06-22T19:09:36.870062Z"
    }
   },
   "id": "2d965ae8242fcf75",
   "outputs": [],
   "execution_count": 19
  },
  {
   "cell_type": "markdown",
   "source": [],
   "metadata": {
    "collapsed": false
   },
   "id": "53416cd315084fca"
  },
  {
   "cell_type": "code",
   "source": [
    "num_rows = len(df)\n",
    "num_rows"
   ],
   "metadata": {
    "collapsed": false,
    "ExecuteTime": {
     "end_time": "2024-06-22T19:09:37.762328Z",
     "start_time": "2024-06-22T19:09:37.759641Z"
    }
   },
   "id": "23e5604675780717",
   "outputs": [
    {
     "data": {
      "text/plain": [
       "30641"
      ]
     },
     "execution_count": 20,
     "metadata": {},
     "output_type": "execute_result"
    }
   ],
   "execution_count": 20
  },
  {
   "cell_type": "code",
   "source": [
    "input_columns = list(df.drop(['WritingScore', 'MathScore', 'ReadingScore'], axis=1).columns)"
   ],
   "metadata": {
    "collapsed": false,
    "ExecuteTime": {
     "end_time": "2024-06-22T19:09:38.193918Z",
     "start_time": "2024-06-22T19:09:38.189848Z"
    }
   },
   "id": "56215a90fe30c68f",
   "outputs": [],
   "execution_count": 21
  },
  {
   "cell_type": "code",
   "source": [
    "output_columns = df.columns[-1]\n",
    "output_columns"
   ],
   "metadata": {
    "collapsed": false,
    "ExecuteTime": {
     "end_time": "2024-06-22T19:09:38.629658Z",
     "start_time": "2024-06-22T19:09:38.626534Z"
    }
   },
   "id": "c2c72afb94e718ce",
   "outputs": [
    {
     "data": {
      "text/plain": [
       "'WritingScore'"
      ]
     },
     "execution_count": 22,
     "metadata": {},
     "output_type": "execute_result"
    }
   ],
   "execution_count": 22
  },
  {
   "cell_type": "code",
   "source": [
    "def dataframe_to_arrays(dataframe: pd.DataFrame) -> list[np.ndarray]:\n",
    "    # Make a copy of original df\n",
    "    df1 = dataframe.copy(deep=True)\n",
    "    # Extract input & outputs as numpy arrays\n",
    "    input_array = df1.drop(['WritingScore', 'MathScore', 'ReadingScore'], axis=1).values\n",
    "    target_array = df1[['ReadingScore']].values\n",
    "    return [input_array, target_array]"
   ],
   "metadata": {
    "collapsed": false,
    "ExecuteTime": {
     "end_time": "2024-06-22T19:09:39.082605Z",
     "start_time": "2024-06-22T19:09:39.080521Z"
    }
   },
   "id": "8901b971433b59f4",
   "outputs": [],
   "execution_count": 23
  },
  {
   "cell_type": "code",
   "source": [
    "inputs_array = dataframe_to_arrays(df)[0]\n",
    "targets_array = dataframe_to_arrays(df)[1]"
   ],
   "metadata": {
    "collapsed": false,
    "ExecuteTime": {
     "end_time": "2024-06-22T19:09:39.526736Z",
     "start_time": "2024-06-22T19:09:39.523344Z"
    }
   },
   "id": "cd2dcf8eb069df8d",
   "outputs": [],
   "execution_count": 24
  },
  {
   "cell_type": "code",
   "source": [
    "import joblib\n",
    "from sklearn.feature_extraction.text import TfidfVectorizer\n",
    "\n",
    "vectorizer = TfidfVectorizer()\n",
    "\n",
    "X_train = vectorizer.fit_transform(pd.read_csv('../data/Expanded_data_with_more_features.csv'))\n",
    "joblib.dump(vectorizer, '../data/vectorizer.pkl')"
   ],
   "metadata": {
    "collapsed": false,
    "ExecuteTime": {
     "end_time": "2024-06-22T19:09:39.982112Z",
     "start_time": "2024-06-22T19:09:39.955139Z"
    }
   },
   "id": "13143180c0e9087e",
   "outputs": [
    {
     "data": {
      "text/plain": [
       "['../data/vectorizer.pkl']"
      ]
     },
     "execution_count": 25,
     "metadata": {},
     "output_type": "execute_result"
    }
   ],
   "execution_count": 25
  },
  {
   "cell_type": "code",
   "source": [
    "inputs = torch.from_numpy(inputs_array).to(torch.float32)\n",
    "targets = torch.from_numpy(targets_array).to(torch.float32)"
   ],
   "metadata": {
    "collapsed": false,
    "ExecuteTime": {
     "end_time": "2024-06-22T19:09:40.447821Z",
     "start_time": "2024-06-22T19:09:40.444820Z"
    }
   },
   "id": "e51fc188185713a7",
   "outputs": [],
   "execution_count": 26
  },
  {
   "cell_type": "code",
   "source": [
    "dataset = TensorDataset(inputs, targets)"
   ],
   "metadata": {
    "collapsed": false,
    "ExecuteTime": {
     "end_time": "2024-06-22T19:09:40.873626Z",
     "start_time": "2024-06-22T19:09:40.871859Z"
    }
   },
   "id": "633a04392759e0a6",
   "outputs": [],
   "execution_count": 27
  },
  {
   "cell_type": "code",
   "source": [
    "val_percent = 0.20\n",
    "val_size = int(num_rows * val_percent)\n",
    "train_size = num_rows - val_size\n",
    "train_ds, val_ds = random_split(dataset, [train_size, val_size])"
   ],
   "metadata": {
    "collapsed": false,
    "ExecuteTime": {
     "end_time": "2024-06-22T19:09:41.117063Z",
     "start_time": "2024-06-22T19:09:41.114109Z"
    }
   },
   "id": "eed3cc2de4238f05",
   "outputs": [],
   "execution_count": 28
  },
  {
   "cell_type": "code",
   "source": [
    "batch_size = 32"
   ],
   "metadata": {
    "collapsed": false,
    "ExecuteTime": {
     "end_time": "2024-06-22T19:09:41.335375Z",
     "start_time": "2024-06-22T19:09:41.333059Z"
    }
   },
   "id": "c7e6147dfe13e5e3",
   "outputs": [],
   "execution_count": 29
  },
  {
   "cell_type": "code",
   "source": [
    "train_loader = DataLoader(train_ds, batch_size, shuffle=True)\n",
    "val_loader = DataLoader(val_ds, batch_size)"
   ],
   "metadata": {
    "collapsed": false,
    "ExecuteTime": {
     "end_time": "2024-06-22T19:09:41.554807Z",
     "start_time": "2024-06-22T19:09:41.552603Z"
    }
   },
   "id": "557f6bf1fbb03cd6",
   "outputs": [],
   "execution_count": 30
  },
  {
   "cell_type": "code",
   "source": [
    "input_size = len(input_columns)\n",
    "hidden_size = int(input_size / 2)\n",
    "hidden_size2 = int(hidden_size / 2)\n",
    "output_size = 1"
   ],
   "metadata": {
    "collapsed": false,
    "ExecuteTime": {
     "end_time": "2024-06-22T19:09:41.771084Z",
     "start_time": "2024-06-22T19:09:41.768250Z"
    }
   },
   "id": "f50587e4ae0c20c8",
   "outputs": [
    {
     "name": "stdout",
     "output_type": "stream",
     "text": [
      "['Gender', 'EthnicGroup', 'ParentEduc', 'LunchType', 'TestPrep', 'ParentMaritalStatus', 'PracticeSport', 'IsFirstChild', 'NrSiblings', 'TransportMeans', 'WklyStudyHours']\n"
     ]
    }
   ],
   "execution_count": 31
  },
  {
   "cell_type": "code",
   "source": [
    "class ReadingScoreModel(nn.Module):\n",
    "    def __init__(self, input_size, output_size):\n",
    "        super(ReadingScoreModel, self).__init__()\n",
    "        self.linear1 = nn.Linear(input_size, 8)\n",
    "        self.relu1 = nn.ReLU()\n",
    "        self.linear2 = nn.Linear(8, output_size)\n",
    "\n",
    "    def forward(self, x):\n",
    "        x = self.linear1(x)\n",
    "        x = self.relu1(x)\n",
    "        x = self.linear2(x)\n",
    "        return x\n",
    "\n",
    "    def training_step(self, batch):\n",
    "        inputs, targets = batch\n",
    "        # Generate predictions\n",
    "        out = self(inputs.to(device))\n",
    "        # Calculate loss\n",
    "        loss = F.l1_loss(out.to(device), targets.to(device))\n",
    "        return loss\n",
    "\n",
    "    def validation_step(self, batch):\n",
    "        inputs, targets = batch\n",
    "        # Generate predictions\n",
    "        out = self(inputs.to(device))\n",
    "        # Calculate loss\n",
    "        loss = F.l1_loss(out.to(device), targets.to(device))\n",
    "        return {'val_loss': loss.detach()}\n",
    "\n",
    "    def validation_epoch_end(self, outputs):\n",
    "        batch_losses = [x['val_loss'] for x in outputs]\n",
    "        # Combine losses\n",
    "        epoch_loss = torch.stack(batch_losses).mean()\n",
    "        return {'val_loss': epoch_loss.item()}\n",
    "\n",
    "    def epoch_end(self, epoch, result, num_epochs):\n",
    "        # Print result after 20th epoch\n",
    "        if (epoch + 1) % 500 == 0 or epoch == num_epochs - 1:\n",
    "            print(f'Epoch {epoch + 1}, val_loss {result[\"val_loss\"]}')"
   ],
   "metadata": {
    "collapsed": false,
    "ExecuteTime": {
     "end_time": "2024-06-22T19:09:42.011568Z",
     "start_time": "2024-06-22T19:09:42.007793Z"
    }
   },
   "id": "1b1f61afa3cc2884",
   "outputs": [],
   "execution_count": 32
  },
  {
   "cell_type": "code",
   "source": [
    "model = ReadingScoreModel(input_size, output_size).to(device)"
   ],
   "metadata": {
    "collapsed": false,
    "ExecuteTime": {
     "end_time": "2024-06-22T19:09:42.218077Z",
     "start_time": "2024-06-22T19:09:42.215274Z"
    }
   },
   "id": "cab7dbf350c95646",
   "outputs": [],
   "execution_count": 33
  },
  {
   "cell_type": "code",
   "source": [
    "from torch_lr_finder import LRFinder\n",
    "criterion = torch.nn.CrossEntropyLoss()\n",
    "optimizer = torch.optim.Adam(model.parameters(), lr = 0.00001)\n",
    "lr_finder = LRFinder(model, optimizer, criterion, device) \n",
    "lr_finder.range_test(train_loader, end_lr = 0.001, num_iter = 25)\n",
    "lr_finder.plot()\n",
    "lr_finder.reset()"
   ],
   "metadata": {
    "collapsed": false,
    "ExecuteTime": {
     "end_time": "2024-06-22T19:09:43.569524Z",
     "start_time": "2024-06-22T19:09:42.693223Z"
    }
   },
   "id": "b0cf3c9a5c5dc709",
   "outputs": [
    {
     "name": "stderr",
     "output_type": "stream",
     "text": [
      "C:\\Users\\Aleks\\Documents\\projects\\PJATK\\SUML_Projekt_GR1\\.venv\\Lib\\site-packages\\torch_lr_finder\\lr_finder.py:5: TqdmExperimentalWarning: Using `tqdm.autonotebook.tqdm` in notebook mode. Use `tqdm.tqdm` instead to force console mode (e.g. in jupyter console)\n",
      "  from tqdm.autonotebook import tqdm\n"
     ]
    },
    {
     "data": {
      "text/plain": [
       "  0%|          | 0/25 [00:00<?, ?it/s]"
      ],
      "application/vnd.jupyter.widget-view+json": {
       "version_major": 2,
       "version_minor": 0,
       "model_id": "c8fafcf1658744f5a0d6a7190399031f"
      }
     },
     "metadata": {},
     "output_type": "display_data"
    },
    {
     "name": "stdout",
     "output_type": "stream",
     "text": [
      "Learning rate search finished. See the graph with {finder_name}.plot()\n",
      "LR suggestion: steepest gradient\n",
      "Suggested LR: 6.81E-05\n"
     ]
    },
    {
     "data": {
      "text/plain": [
       "<Figure size 640x480 with 1 Axes>"
      ],
      "image/png": "[encoded data removed]"
     },
     "metadata": {},
     "output_type": "display_data"
    }
   ],
   "execution_count": 34
  },
  {
   "cell_type": "code",
   "source": [
    "def evaluate(model, val_loader):\n",
    "    outputs = [model.validation_step(batch) for batch in val_loader]\n",
    "    return model.validation_epoch_end(outputs)\n",
    "\n",
    "def fit(epochs, lr, model, train_loader, val_loader, opt_func=optim.SGD) -> list:\n",
    "    history = []\n",
    "    optimizer = opt_func(model.parameters(), lr)\n",
    "    for epoch in range(epochs):\n",
    "        # Training phase\n",
    "        for batch in train_loader:\n",
    "            loss = model.training_step(batch)\n",
    "            loss.backward()\n",
    "            optimizer.step()\n",
    "            optimizer.zero_grad()\n",
    "        # Validation phase\n",
    "        result = evaluate(model, val_loader)\n",
    "        model.epoch_end(epoch, result, epochs)\n",
    "        history.append(result)\n",
    "    return history"
   ],
   "metadata": {
    "collapsed": false,
    "ExecuteTime": {
     "end_time": "2024-06-22T19:09:44.217512Z",
     "start_time": "2024-06-22T19:09:44.214216Z"
    }
   },
   "id": "e9318a481b710224",
   "outputs": [],
   "execution_count": 35
  },
  {
   "cell_type": "code",
   "source": [
    "result = evaluate(model, val_loader)\n",
    "print(result)"
   ],
   "metadata": {
    "collapsed": false,
    "ExecuteTime": {
     "end_time": "2024-06-22T19:09:45.147754Z",
     "start_time": "2024-06-22T19:09:45.113274Z"
    }
   },
   "id": "312f72114d04a0e2",
   "outputs": [
    {
     "name": "stdout",
     "output_type": "stream",
     "text": [
      "{'val_loss': 58.12417984008789}\n"
     ]
    }
   ],
   "execution_count": 36
  },
  {
   "cell_type": "code",
   "source": [
    "epochs = 2000\n",
    "lr = 6.81E-05\n",
    "history = fit(epochs, lr, model, train_loader, val_loader)"
   ],
   "metadata": {
    "collapsed": false,
    "ExecuteTime": {
     "end_time": "2024-06-22T19:19:14.512377Z",
     "start_time": "2024-06-22T19:09:46.979228Z"
    }
   },
   "id": "e5a427e66ffa36b0",
   "outputs": [
    {
     "name": "stdout",
     "output_type": "stream",
     "text": [
      "Epoch 500, val_loss 10.9238862991333\n",
      "Epoch 1000, val_loss 10.923876762390137\n",
      "Epoch 1500, val_loss 10.923736572265625\n",
      "Epoch 2000, val_loss 10.927844047546387\n"
     ]
    }
   ],
   "execution_count": 37
  },
  {
   "cell_type": "code",
   "source": [
    "val_loss = history[-1]\n",
    "val_loss"
   ],
   "metadata": {
    "collapsed": false,
    "ExecuteTime": {
     "end_time": "2024-06-22T19:25:18.282120Z",
     "start_time": "2024-06-22T19:25:18.278562Z"
    }
   },
   "id": "41d9ee5a080b580d",
   "outputs": [
    {
     "data": {
      "text/plain": [
       "{'val_loss': 10.927844047546387}"
      ]
     },
     "execution_count": 38,
     "metadata": {},
     "output_type": "execute_result"
    }
   ],
   "execution_count": 38
  },
  {
   "cell_type": "code",
   "source": [
    "def predict_single(input, target, model):\n",
    "    inputs = input.unsqueeze(0)\n",
    "    predictions = model(inputs.to(device))\n",
    "    prediction = predictions[0].detach()\n",
    "    print(f'Input: {input}')\n",
    "    print(f'Target: {target}')\n",
    "    print(f'Prediction: {prediction}')"
   ],
   "metadata": {
    "collapsed": false,
    "ExecuteTime": {
     "end_time": "2024-06-22T19:25:18.872661Z",
     "start_time": "2024-06-22T19:25:18.870492Z"
    }
   },
   "id": "3e1facda3fe93f79",
   "outputs": [],
   "execution_count": 39
  },
  {
   "cell_type": "code",
   "source": [
    "input, target = val_ds[5]\n",
    "print(type(val_ds))\n",
    "predict_single(input, target, model)"
   ],
   "metadata": {
    "collapsed": false,
    "ExecuteTime": {
     "end_time": "2024-06-22T19:25:19.557628Z",
     "start_time": "2024-06-22T19:25:19.554934Z"
    }
   },
   "id": "8991f3b994b1dbf",
   "outputs": [
    {
     "name": "stdout",
     "output_type": "stream",
     "text": [
      "<class 'torch.utils.data.dataset.Subset'>\n",
      "Input: tensor([ 0., -1.,  5.,  1.,  1.,  1.,  2.,  1.,  1.,  1.,  0.])\n",
      "Target: tensor([71.])\n",
      "Prediction: tensor([60.4702])\n"
     ]
    }
   ],
   "execution_count": 40
  },
  {
   "cell_type": "code",
   "source": [
    "input, target = val_ds[10]\n",
    "predict_single(input, target, model)"
   ],
   "metadata": {
    "collapsed": false,
    "ExecuteTime": {
     "end_time": "2024-06-22T19:25:19.779382Z",
     "start_time": "2024-06-22T19:25:19.776169Z"
    }
   },
   "id": "9a3d840f1e7c90dc",
   "outputs": [
    {
     "name": "stdout",
     "output_type": "stream",
     "text": [
      "Input: tensor([0., 4., 1., 1., 0., 1., 0., 1., 0., 0., 1.])\n",
      "Target: tensor([81.])\n",
      "Prediction: tensor([73.0929])\n"
     ]
    }
   ],
   "execution_count": 41
  },
  {
   "cell_type": "code",
   "source": [
    "input,target = val_ds[13]\n",
    "predict_single(input, target, model)"
   ],
   "metadata": {
    "collapsed": false,
    "ExecuteTime": {
     "end_time": "2024-06-22T19:25:19.999154Z",
     "start_time": "2024-06-22T19:25:19.995544Z"
    }
   },
   "id": "f3c3418bd2fe37a0",
   "outputs": [
    {
     "name": "stdout",
     "output_type": "stream",
     "text": [
      "Input: tensor([1., 2., 5., 1., 0., 1., 1., 0., 1., 0., 2.])\n",
      "Target: tensor([49.])\n",
      "Prediction: tensor([57.8025])\n"
     ]
    }
   ],
   "execution_count": 42
  },
  {
   "cell_type": "code",
   "source": [
    "input,target = val_ds[54]\n",
    "predict_single(input, target, model)"
   ],
   "metadata": {
    "collapsed": false,
    "ExecuteTime": {
     "end_time": "2024-06-22T19:25:20.238690Z",
     "start_time": "2024-06-22T19:25:20.235300Z"
    }
   },
   "id": "baa2d120d94820c0",
   "outputs": [
    {
     "name": "stdout",
     "output_type": "stream",
     "text": [
      "Input: tensor([1., 2., 0., 1., 0., 2., 1., 0., 4., 1., 0.])\n",
      "Target: tensor([66.])\n",
      "Prediction: tensor([61.2040])\n"
     ]
    }
   ],
   "execution_count": 43
  },
  {
   "cell_type": "code",
   "source": [
    "input,target = val_ds[87]\n",
    "predict_single(input, target, model)"
   ],
   "metadata": {
    "collapsed": false,
    "ExecuteTime": {
     "end_time": "2024-06-22T19:25:21.088622Z",
     "start_time": "2024-06-22T19:25:21.085775Z"
    }
   },
   "id": "1c0dfa5911920fed",
   "outputs": [
    {
     "name": "stdout",
     "output_type": "stream",
     "text": [
      "Input: tensor([1., 4., 4., 1., 0., 1., 0., 1., 1., 1., 0.])\n",
      "Target: tensor([54.])\n",
      "Prediction: tensor([62.8207])\n"
     ]
    }
   ],
   "execution_count": 44
  },
  {
   "cell_type": "code",
   "source": [
    "torch.save(model.state_dict(), '../models/reading_score_model_state.pt')"
   ],
   "metadata": {
    "collapsed": false,
    "ExecuteTime": {
     "end_time": "2024-06-22T19:25:31.608313Z",
     "start_time": "2024-06-22T19:25:31.605401Z"
    }
   },
   "id": "4afb3752e6b67ad",
   "outputs": [],
   "execution_count": 46
  },
  {
   "cell_type": "code",
   "source": [
    "print(val_ds[87])\n",
    "print(type(val_ds[87]))"
   ],
   "metadata": {
    "collapsed": false,
    "ExecuteTime": {
     "end_time": "2024-06-22T19:25:44.403447Z",
     "start_time": "2024-06-22T19:25:44.400717Z"
    }
   },
   "id": "c294d73f538a356a",
   "outputs": [
    {
     "name": "stdout",
     "output_type": "stream",
     "text": [
      "(tensor([1., 4., 4., 1., 0., 1., 0., 1., 1., 1., 0.]), tensor([54.]))\n",
      "<class 'tuple'>\n"
     ]
    }
   ],
   "execution_count": 47
  },
  {
   "cell_type": "code",
   "source": [
    "model_input = torch.tensor([1., 2., 5., 0., 1., 2., 0., 1., 1., 1., 0.], dtype=torch.float32)"
   ],
   "metadata": {
    "collapsed": false,
    "ExecuteTime": {
     "end_time": "2024-06-22T19:25:44.649017Z",
     "start_time": "2024-06-22T19:25:44.646247Z"
    }
   },
   "id": "1a38a937057f1543",
   "outputs": [],
   "execution_count": 48
  },
  {
   "cell_type": "code",
   "source": [
    "output = model(model_input)\n",
    "float(output[0])"
   ],
   "metadata": {
    "collapsed": false,
    "ExecuteTime": {
     "end_time": "2024-06-22T19:25:44.996182Z",
     "start_time": "2024-06-22T19:25:44.993211Z"
    }
   },
   "id": "ac897fedc77e33d5",
   "outputs": [
    {
     "data": {
      "text/plain": [
       "44.573333740234375"
      ]
     },
     "execution_count": 49,
     "metadata": {},
     "output_type": "execute_result"
    }
   ],
   "execution_count": 49
  }
 ],
 "metadata": {
  "kernelspec": {
   "display_name": "Python 3",
   "language": "python",
   "name": "python3"
  },
  "language_info": {
   "codemirror_mode": {
    "name": "ipython",
    "version": 2
   },
   "file_extension": ".py",
   "mimetype": "text/x-python",
   "name": "python",
   "nbconvert_exporter": "python",
   "pygments_lexer": "ipython2",
   "version": "2.7.6"
  }
 },
 "nbformat": 4,
 "nbformat_minor": 5
}
