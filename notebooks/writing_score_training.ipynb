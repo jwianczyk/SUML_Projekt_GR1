{
 "cells": [
  {
   "cell_type": "code",
   "execution_count": 160,
   "id": "initial_id",
   "metadata": {
    "collapsed": true,
    "ExecuteTime": {
     "end_time": "2024-06-09T14:44:48.349008400Z",
     "start_time": "2024-06-09T14:44:48.231256Z"
    }
   },
   "outputs": [],
   "source": [
    "import pandas as pd\n",
    "import numpy as np\n",
    "import torch\n",
    "import torch.nn as nn\n",
    "import torch.optim as optim\n",
    "import matplotlib.pyplot as plt\n",
    "import seaborn as sns\n",
    "import torch.nn.functional as F\n",
    "from torch.utils.data import DataLoader, TensorDataset, random_split"
   ]
  },
  {
   "cell_type": "code",
   "outputs": [
    {
     "data": {
      "text/plain": "       Gender EthnicGroup          ParentEduc     LunchType   TestPrep  \\\n0      female         NaN   bachelor's degree      standard       none   \n1      female     group C        some college      standard        NaN   \n2      female     group B     master's degree      standard       none   \n3        male     group A  associate's degree  free/reduced       none   \n4        male     group C        some college      standard       none   \n...       ...         ...                 ...           ...        ...   \n30636  female     group D         high school      standard       none   \n30637    male     group E         high school      standard       none   \n30638  female         NaN         high school  free/reduced  completed   \n30639  female     group D  associate's degree      standard  completed   \n30640    male     group B        some college      standard       none   \n\n      ParentMaritalStatus PracticeSport IsFirstChild  NrSiblings  \\\n0                 married     regularly          yes         3.0   \n1                 married     sometimes          yes         0.0   \n2                  single     sometimes          yes         4.0   \n3                 married         never           no         1.0   \n4                 married     sometimes          yes         0.0   \n...                   ...           ...          ...         ...   \n30636              single     sometimes           no         2.0   \n30637              single     regularly           no         1.0   \n30638             married     sometimes           no         1.0   \n30639             married     regularly           no         3.0   \n30640             married         never           no         1.0   \n\n      TransportMeans WklyStudyHours  MathScore  ReadingScore  WritingScore  \n0         school_bus            < 5         71            71            74  \n1                NaN         5 - 10         69            90            88  \n2         school_bus            < 5         87            93            91  \n3                NaN         5 - 10         45            56            42  \n4         school_bus         5 - 10         76            78            75  \n...              ...            ...        ...           ...           ...  \n30636     school_bus         5 - 10         59            61            65  \n30637        private         5 - 10         58            53            51  \n30638        private         5 - 10         61            70            67  \n30639     school_bus         5 - 10         82            90            93  \n30640     school_bus         5 - 10         64            60            58  \n\n[30641 rows x 14 columns]",
      "text/html": "<div>\n<style scoped>\n    .dataframe tbody tr th:only-of-type {\n        vertical-align: middle;\n    }\n\n    .dataframe tbody tr th {\n        vertical-align: top;\n    }\n\n    .dataframe thead th {\n        text-align: right;\n    }\n</style>\n<table border=\"1\" class=\"dataframe\">\n  <thead>\n    <tr style=\"text-align: right;\">\n      <th></th>\n      <th>Gender</th>\n      <th>EthnicGroup</th>\n      <th>ParentEduc</th>\n      <th>LunchType</th>\n      <th>TestPrep</th>\n      <th>ParentMaritalStatus</th>\n      <th>PracticeSport</th>\n      <th>IsFirstChild</th>\n      <th>NrSiblings</th>\n      <th>TransportMeans</th>\n      <th>WklyStudyHours</th>\n      <th>MathScore</th>\n      <th>ReadingScore</th>\n      <th>WritingScore</th>\n    </tr>\n  </thead>\n  <tbody>\n    <tr>\n      <th>0</th>\n      <td>female</td>\n      <td>NaN</td>\n      <td>bachelor's degree</td>\n      <td>standard</td>\n      <td>none</td>\n      <td>married</td>\n      <td>regularly</td>\n      <td>yes</td>\n      <td>3.0</td>\n      <td>school_bus</td>\n      <td>&lt; 5</td>\n      <td>71</td>\n      <td>71</td>\n      <td>74</td>\n    </tr>\n    <tr>\n      <th>1</th>\n      <td>female</td>\n      <td>group C</td>\n      <td>some college</td>\n      <td>standard</td>\n      <td>NaN</td>\n      <td>married</td>\n      <td>sometimes</td>\n      <td>yes</td>\n      <td>0.0</td>\n      <td>NaN</td>\n      <td>5 - 10</td>\n      <td>69</td>\n      <td>90</td>\n      <td>88</td>\n    </tr>\n    <tr>\n      <th>2</th>\n      <td>female</td>\n      <td>group B</td>\n      <td>master's degree</td>\n      <td>standard</td>\n      <td>none</td>\n      <td>single</td>\n      <td>sometimes</td>\n      <td>yes</td>\n      <td>4.0</td>\n      <td>school_bus</td>\n      <td>&lt; 5</td>\n      <td>87</td>\n      <td>93</td>\n      <td>91</td>\n    </tr>\n    <tr>\n      <th>3</th>\n      <td>male</td>\n      <td>group A</td>\n      <td>associate's degree</td>\n      <td>free/reduced</td>\n      <td>none</td>\n      <td>married</td>\n      <td>never</td>\n      <td>no</td>\n      <td>1.0</td>\n      <td>NaN</td>\n      <td>5 - 10</td>\n      <td>45</td>\n      <td>56</td>\n      <td>42</td>\n    </tr>\n    <tr>\n      <th>4</th>\n      <td>male</td>\n      <td>group C</td>\n      <td>some college</td>\n      <td>standard</td>\n      <td>none</td>\n      <td>married</td>\n      <td>sometimes</td>\n      <td>yes</td>\n      <td>0.0</td>\n      <td>school_bus</td>\n      <td>5 - 10</td>\n      <td>76</td>\n      <td>78</td>\n      <td>75</td>\n    </tr>\n    <tr>\n      <th>...</th>\n      <td>...</td>\n      <td>...</td>\n      <td>...</td>\n      <td>...</td>\n      <td>...</td>\n      <td>...</td>\n      <td>...</td>\n      <td>...</td>\n      <td>...</td>\n      <td>...</td>\n      <td>...</td>\n      <td>...</td>\n      <td>...</td>\n      <td>...</td>\n    </tr>\n    <tr>\n      <th>30636</th>\n      <td>female</td>\n      <td>group D</td>\n      <td>high school</td>\n      <td>standard</td>\n      <td>none</td>\n      <td>single</td>\n      <td>sometimes</td>\n      <td>no</td>\n      <td>2.0</td>\n      <td>school_bus</td>\n      <td>5 - 10</td>\n      <td>59</td>\n      <td>61</td>\n      <td>65</td>\n    </tr>\n    <tr>\n      <th>30637</th>\n      <td>male</td>\n      <td>group E</td>\n      <td>high school</td>\n      <td>standard</td>\n      <td>none</td>\n      <td>single</td>\n      <td>regularly</td>\n      <td>no</td>\n      <td>1.0</td>\n      <td>private</td>\n      <td>5 - 10</td>\n      <td>58</td>\n      <td>53</td>\n      <td>51</td>\n    </tr>\n    <tr>\n      <th>30638</th>\n      <td>female</td>\n      <td>NaN</td>\n      <td>high school</td>\n      <td>free/reduced</td>\n      <td>completed</td>\n      <td>married</td>\n      <td>sometimes</td>\n      <td>no</td>\n      <td>1.0</td>\n      <td>private</td>\n      <td>5 - 10</td>\n      <td>61</td>\n      <td>70</td>\n      <td>67</td>\n    </tr>\n    <tr>\n      <th>30639</th>\n      <td>female</td>\n      <td>group D</td>\n      <td>associate's degree</td>\n      <td>standard</td>\n      <td>completed</td>\n      <td>married</td>\n      <td>regularly</td>\n      <td>no</td>\n      <td>3.0</td>\n      <td>school_bus</td>\n      <td>5 - 10</td>\n      <td>82</td>\n      <td>90</td>\n      <td>93</td>\n    </tr>\n    <tr>\n      <th>30640</th>\n      <td>male</td>\n      <td>group B</td>\n      <td>some college</td>\n      <td>standard</td>\n      <td>none</td>\n      <td>married</td>\n      <td>never</td>\n      <td>no</td>\n      <td>1.0</td>\n      <td>school_bus</td>\n      <td>5 - 10</td>\n      <td>64</td>\n      <td>60</td>\n      <td>58</td>\n    </tr>\n  </tbody>\n</table>\n<p>30641 rows × 14 columns</p>\n</div>"
     },
     "execution_count": 161,
     "metadata": {},
     "output_type": "execute_result"
    }
   ],
   "source": [
    "df = pd.read_csv('data/Expanded_data_with_more_features.csv')\n",
    "df = df.drop(columns=['Unnamed: 0'])\n",
    "df"
   ],
   "metadata": {
    "collapsed": false,
    "ExecuteTime": {
     "end_time": "2024-06-09T14:44:48.552902300Z",
     "start_time": "2024-06-09T14:44:48.239776700Z"
    }
   },
   "id": "af294e8815fe305f",
   "execution_count": 161
  },
  {
   "cell_type": "code",
   "execution_count": 162,
   "outputs": [],
   "source": [
    "# Check if cuda is available\n",
    "device = torch.device('cpu')"
   ],
   "metadata": {
    "collapsed": false,
    "ExecuteTime": {
     "end_time": "2024-06-09T14:44:48.552902300Z",
     "start_time": "2024-06-09T14:44:48.284819800Z"
    }
   },
   "id": "2eb65750b87dc7a2"
  },
  {
   "cell_type": "code",
   "outputs": [
    {
     "name": "stdout",
     "output_type": "stream",
     "text": [
      "Gender                 False\n",
      "EthnicGroup             True\n",
      "ParentEduc              True\n",
      "LunchType              False\n",
      "TestPrep                True\n",
      "ParentMaritalStatus     True\n",
      "PracticeSport           True\n",
      "IsFirstChild            True\n",
      "NrSiblings              True\n",
      "TransportMeans          True\n",
      "WklyStudyHours          True\n",
      "MathScore              False\n",
      "ReadingScore           False\n",
      "WritingScore           False\n",
      "dtype: bool\n"
     ]
    }
   ],
   "source": [
    "# Checking for NaN's\n",
    "print(df.isnull().any())"
   ],
   "metadata": {
    "collapsed": false,
    "ExecuteTime": {
     "end_time": "2024-06-09T14:44:48.552902300Z",
     "start_time": "2024-06-09T14:44:48.306391900Z"
    }
   },
   "id": "356c5260a9ad5caf",
   "execution_count": 163
  },
  {
   "cell_type": "code",
   "outputs": [
    {
     "name": "stdout",
     "output_type": "stream",
     "text": [
      "   Gender  EthnicGroup  ParentEduc  LunchType  TestPrep  ParentMaritalStatus  \\\n",
      "0       0           -1           1          1         1                    1   \n",
      "1       0            2           4          1        -1                    1   \n",
      "2       0            1           3          1         1                    2   \n",
      "3       1            0           0          0         1                    1   \n",
      "4       1            2           4          1         1                    1   \n",
      "\n",
      "   PracticeSport  IsFirstChild  NrSiblings  TransportMeans  WklyStudyHours  \\\n",
      "0              1             1           3               1               1   \n",
      "1              2             1           0              -1               0   \n",
      "2              2             1           4               1               1   \n",
      "3              0             0           1              -1               0   \n",
      "4              2             1           0               1               0   \n",
      "\n",
      "   MathScore  ReadingScore  WritingScore  \n",
      "0         65            60            66  \n",
      "1         63            79            80  \n",
      "2         81            82            83  \n",
      "3         39            45            34  \n",
      "4         70            67            67  \n"
     ]
    }
   ],
   "source": [
    "# Setting categorical features as numbers and removing NaN's by calculating mean value \n",
    "for column in df.columns:\n",
    "    df[column] = df[column].astype('category').cat.codes\n",
    "    df[column] = df[column].fillna(df[column].mean())\n",
    "print(df.head())"
   ],
   "metadata": {
    "collapsed": false,
    "ExecuteTime": {
     "end_time": "2024-06-09T14:44:48.553907300Z",
     "start_time": "2024-06-09T14:44:48.316407400Z"
    }
   },
   "id": "2d965ae8242fcf75",
   "execution_count": 164
  },
  {
   "cell_type": "markdown",
   "source": [],
   "metadata": {
    "collapsed": false
   },
   "id": "53416cd315084fca"
  },
  {
   "cell_type": "code",
   "outputs": [
    {
     "data": {
      "text/plain": "Gender                 False\nEthnicGroup            False\nParentEduc             False\nLunchType              False\nTestPrep               False\nParentMaritalStatus    False\nPracticeSport          False\nIsFirstChild           False\nNrSiblings             False\nTransportMeans         False\nWklyStudyHours         False\nMathScore              False\nReadingScore           False\nWritingScore           False\ndtype: bool"
     },
     "execution_count": 165,
     "metadata": {},
     "output_type": "execute_result"
    }
   ],
   "source": [
    "df.isnull().any()"
   ],
   "metadata": {
    "collapsed": false,
    "ExecuteTime": {
     "end_time": "2024-06-09T14:44:48.554912700Z",
     "start_time": "2024-06-09T14:44:48.347009300Z"
    }
   },
   "id": "415313e139d9d48a",
   "execution_count": 165
  },
  {
   "cell_type": "code",
   "outputs": [
    {
     "data": {
      "text/plain": "Text(0.5, 1.0, 'Korelacja między zmiennymi')"
     },
     "execution_count": 166,
     "metadata": {},
     "output_type": "execute_result"
    },
    {
     "data": {
      "text/plain": "<Figure size 1000x500 with 2 Axes>",
      "image/png": "[encoded data removed]"
     },
     "metadata": {},
     "output_type": "display_data"
    }
   ],
   "source": [
    "correlation_matrix = df.drop(['WritingScore', 'MathScore', 'ReadingScore'], axis=1).corr()\n",
    "plt.figure(figsize=(10, 5))\n",
    "heatmap = sns.heatmap(correlation_matrix, vmin=-1, vmax=1, annot=True)\n",
    "heatmap.set_title('Korelacja między zmiennymi', fontdict={'fontsize': 14}, pad=12)"
   ],
   "metadata": {
    "collapsed": false,
    "ExecuteTime": {
     "end_time": "2024-06-09T14:44:48.701784600Z",
     "start_time": "2024-06-09T14:44:48.362540600Z"
    }
   },
   "id": "332009ec997c8689",
   "execution_count": 166
  },
  {
   "cell_type": "code",
   "outputs": [
    {
     "data": {
      "text/plain": "30641"
     },
     "execution_count": 167,
     "metadata": {},
     "output_type": "execute_result"
    }
   ],
   "source": [
    "num_rows = len(df)\n",
    "num_rows"
   ],
   "metadata": {
    "collapsed": false,
    "ExecuteTime": {
     "end_time": "2024-06-09T14:44:48.702779800Z",
     "start_time": "2024-06-09T14:44:48.642160400Z"
    }
   },
   "id": "23e5604675780717",
   "execution_count": 167
  },
  {
   "cell_type": "code",
   "outputs": [
    {
     "data": {
      "text/plain": "['Gender',\n 'EthnicGroup',\n 'ParentEduc',\n 'LunchType',\n 'TestPrep',\n 'ParentMaritalStatus',\n 'PracticeSport',\n 'IsFirstChild',\n 'NrSiblings',\n 'TransportMeans',\n 'WklyStudyHours']"
     },
     "execution_count": 168,
     "metadata": {},
     "output_type": "execute_result"
    }
   ],
   "source": [
    "input_columns = list(df.drop(['WritingScore', 'MathScore', 'ReadingScore'], axis=1).columns)\n",
    "input_columns"
   ],
   "metadata": {
    "collapsed": false,
    "ExecuteTime": {
     "end_time": "2024-06-09T14:44:48.764228200Z",
     "start_time": "2024-06-09T14:44:48.659181700Z"
    }
   },
   "id": "56215a90fe30c68f",
   "execution_count": 168
  },
  {
   "cell_type": "code",
   "outputs": [
    {
     "data": {
      "text/plain": "'WritingScore'"
     },
     "execution_count": 169,
     "metadata": {},
     "output_type": "execute_result"
    }
   ],
   "source": [
    "output_columns = df.columns[-1]\n",
    "output_columns"
   ],
   "metadata": {
    "collapsed": false,
    "ExecuteTime": {
     "end_time": "2024-06-09T14:44:48.767226200Z",
     "start_time": "2024-06-09T14:44:48.673708400Z"
    }
   },
   "id": "c2c72afb94e718ce",
   "execution_count": 169
  },
  {
   "cell_type": "code",
   "outputs": [],
   "source": [
    "def dataframe_to_arrays(dataframe: pd.DataFrame) -> list[np.ndarray]:\n",
    "    # Make a copy of original df\n",
    "    df1 = dataframe.copy(deep=True)\n",
    "    # Extract input & outputs as numpy arrays\n",
    "    input_array = df1.drop(['WritingScore', 'MathScore', 'ReadingScore'], axis=1).values\n",
    "    target_array = df1[['WritingScore']].values\n",
    "    return [input_array, target_array]"
   ],
   "metadata": {
    "collapsed": false,
    "ExecuteTime": {
     "end_time": "2024-06-09T14:44:48.771226600Z",
     "start_time": "2024-06-09T14:44:48.689261400Z"
    }
   },
   "id": "8901b971433b59f4",
   "execution_count": 170
  },
  {
   "cell_type": "code",
   "outputs": [
    {
     "name": "stdout",
     "output_type": "stream",
     "text": [
      "(30641, 11) (30641, 1)\n"
     ]
    },
    {
     "data": {
      "text/plain": "(array([[ 0, -1,  1, ...,  3,  1,  1],\n        [ 0,  2,  4, ...,  0, -1,  0],\n        [ 0,  1,  3, ...,  4,  1,  1],\n        ...,\n        [ 0, -1,  2, ...,  1,  0,  0],\n        [ 0,  3,  0, ...,  3,  1,  0],\n        [ 1,  1,  4, ...,  1,  1,  0]], dtype=int8),\n array([[66],\n        [80],\n        [83],\n        ...,\n        [59],\n        [85],\n        [50]], dtype=int8))"
     },
     "execution_count": 171,
     "metadata": {},
     "output_type": "execute_result"
    }
   ],
   "source": [
    "inputs_array = dataframe_to_arrays(df)[0]\n",
    "targets_array = dataframe_to_arrays(df)[1]\n",
    "print(inputs_array.shape, targets_array.shape)\n",
    "inputs_array, targets_array"
   ],
   "metadata": {
    "collapsed": false,
    "ExecuteTime": {
     "end_time": "2024-06-09T14:44:48.771726400Z",
     "start_time": "2024-06-09T14:44:48.704280800Z"
    }
   },
   "id": "cd2dcf8eb069df8d",
   "execution_count": 171
  },
  {
   "cell_type": "code",
   "execution_count": 172,
   "outputs": [
    {
     "data": {
      "text/plain": "['./data/vectorizer.pkl']"
     },
     "execution_count": 172,
     "metadata": {},
     "output_type": "execute_result"
    }
   ],
   "source": [
    "import joblib\n",
    "from sklearn.feature_extraction.text import TfidfVectorizer\n",
    "\n",
    "vectorizer = TfidfVectorizer()\n",
    "\n",
    "X_train = vectorizer.fit_transform(pd.read_csv('data/Expanded_data_with_more_features.csv'))\n",
    "joblib.dump(vectorizer, './data/vectorizer.pkl')"
   ],
   "metadata": {
    "collapsed": false,
    "ExecuteTime": {
     "end_time": "2024-06-09T14:44:48.921679800Z",
     "start_time": "2024-06-09T14:44:48.720112500Z"
    }
   },
   "id": "13143180c0e9087e"
  },
  {
   "cell_type": "code",
   "outputs": [],
   "source": [
    "inputs = torch.from_numpy(inputs_array).to(torch.float32)\n",
    "targets = torch.from_numpy(targets_array).to(torch.float32)"
   ],
   "metadata": {
    "collapsed": false,
    "ExecuteTime": {
     "end_time": "2024-06-09T14:44:48.927199900Z",
     "start_time": "2024-06-09T14:44:48.768228500Z"
    }
   },
   "id": "e51fc188185713a7",
   "execution_count": 173
  },
  {
   "cell_type": "code",
   "outputs": [
    {
     "data": {
      "text/plain": "(torch.float32, torch.float32)"
     },
     "execution_count": 174,
     "metadata": {},
     "output_type": "execute_result"
    }
   ],
   "source": [
    "inputs.dtype, targets.dtype"
   ],
   "metadata": {
    "collapsed": false,
    "ExecuteTime": {
     "end_time": "2024-06-09T14:44:48.937207500Z",
     "start_time": "2024-06-09T14:44:48.782225100Z"
    }
   },
   "id": "16f4615c8366c1a8",
   "execution_count": 174
  },
  {
   "cell_type": "code",
   "outputs": [
    {
     "name": "stdout",
     "output_type": "stream",
     "text": [
      "(tensor([[ 0., -1.,  1.,  ...,  3.,  1.,  1.],\n",
      "        [ 0.,  2.,  4.,  ...,  0., -1.,  0.],\n",
      "        [ 0.,  1.,  3.,  ...,  4.,  1.,  1.],\n",
      "        ...,\n",
      "        [ 0., -1.,  2.,  ...,  1.,  0.,  0.],\n",
      "        [ 0.,  3.,  0.,  ...,  3.,  1.,  0.],\n",
      "        [ 1.,  1.,  4.,  ...,  1.,  1.,  0.]]), tensor([[66.],\n",
      "        [80.],\n",
      "        [83.],\n",
      "        ...,\n",
      "        [59.],\n",
      "        [85.],\n",
      "        [50.]]))\n"
     ]
    }
   ],
   "source": [
    "print((inputs, targets))"
   ],
   "metadata": {
    "collapsed": false,
    "ExecuteTime": {
     "end_time": "2024-06-09T14:44:48.937207500Z",
     "start_time": "2024-06-09T14:44:48.798356200Z"
    }
   },
   "id": "3f415b4eaea628bf",
   "execution_count": 175
  },
  {
   "cell_type": "code",
   "outputs": [],
   "source": [
    "dataset = TensorDataset(inputs, targets)"
   ],
   "metadata": {
    "collapsed": false,
    "ExecuteTime": {
     "end_time": "2024-06-09T14:44:48.937207500Z",
     "start_time": "2024-06-09T14:44:48.812881100Z"
    }
   },
   "id": "633a04392759e0a6",
   "execution_count": 176
  },
  {
   "cell_type": "code",
   "outputs": [
    {
     "name": "stdout",
     "output_type": "stream",
     "text": [
      "6128\n",
      "24513\n"
     ]
    }
   ],
   "source": [
    "val_percent = 0.20\n",
    "val_size = int(num_rows * val_percent)\n",
    "print(val_size)\n",
    "train_size = num_rows - val_size\n",
    "print(train_size)\n",
    "\n",
    "# use the random_split function to split dataset into 2 parts of the desired length\n",
    "train_ds, val_ds = random_split(dataset, [train_size, val_size])"
   ],
   "metadata": {
    "collapsed": false,
    "ExecuteTime": {
     "end_time": "2024-06-09T14:44:48.938208400Z",
     "start_time": "2024-06-09T14:44:48.829910300Z"
    }
   },
   "id": "eed3cc2de4238f05",
   "execution_count": 177
  },
  {
   "cell_type": "code",
   "outputs": [
    {
     "name": "stdout",
     "output_type": "stream",
     "text": [
      "24513 6128\n"
     ]
    }
   ],
   "source": [
    "print(len(train_ds), len(val_ds))"
   ],
   "metadata": {
    "collapsed": false,
    "ExecuteTime": {
     "end_time": "2024-06-09T14:44:48.938710100Z",
     "start_time": "2024-06-09T14:44:48.844927900Z"
    }
   },
   "id": "84397cd8621541b0",
   "execution_count": 178
  },
  {
   "cell_type": "code",
   "outputs": [],
   "source": [
    "batch_size = 32"
   ],
   "metadata": {
    "collapsed": false,
    "ExecuteTime": {
     "end_time": "2024-06-09T14:44:48.939211800Z",
     "start_time": "2024-06-09T14:44:48.860456200Z"
    }
   },
   "id": "c7e6147dfe13e5e3",
   "execution_count": 179
  },
  {
   "cell_type": "code",
   "outputs": [],
   "source": [
    "train_loader = DataLoader(train_ds, batch_size, shuffle=True)\n",
    "val_loader = DataLoader(val_ds, batch_size)"
   ],
   "metadata": {
    "collapsed": false,
    "ExecuteTime": {
     "end_time": "2024-06-09T14:44:48.939707900Z",
     "start_time": "2024-06-09T14:44:48.876004700Z"
    }
   },
   "id": "557f6bf1fbb03cd6",
   "execution_count": 180
  },
  {
   "cell_type": "code",
   "outputs": [],
   "source": [
    "# for xb, yb in train_loader:\n",
    "#     print(f'inputs: {xb}')\n",
    "#     print(f'targets: {yb}')"
   ],
   "metadata": {
    "collapsed": false,
    "ExecuteTime": {
     "end_time": "2024-06-09T14:44:48.940209700Z",
     "start_time": "2024-06-09T14:44:48.891537900Z"
    }
   },
   "id": "ec688e17dbb96259",
   "execution_count": 181
  },
  {
   "cell_type": "markdown",
   "source": [
    "#  Create a Linear Regression Model"
   ],
   "metadata": {
    "collapsed": false
   },
   "id": "6b844b8e073cdacc"
  },
  {
   "cell_type": "code",
   "outputs": [
    {
     "name": "stdout",
     "output_type": "stream",
     "text": [
      "11\n",
      "5\n",
      "2\n",
      "1\n"
     ]
    }
   ],
   "source": [
    "input_size = len(input_columns)\n",
    "print(input_size)\n",
    "hidden_size = int(input_size / 2)\n",
    "print(hidden_size)\n",
    "hidden_size2 = int(hidden_size / 2)\n",
    "print(hidden_size2)\n",
    "output_size = 1\n",
    "print(output_size)"
   ],
   "metadata": {
    "collapsed": false,
    "ExecuteTime": {
     "end_time": "2024-06-09T14:44:48.940708400Z",
     "start_time": "2024-06-09T14:44:48.906668600Z"
    }
   },
   "id": "f50587e4ae0c20c8",
   "execution_count": 182
  },
  {
   "cell_type": "code",
   "outputs": [],
   "source": [
    "class WritingScoreModel(nn.Module):\n",
    "    def __init__(self, input_size, output_size):\n",
    "        super(WritingScoreModel, self).__init__()\n",
    "        self.linear1 = nn.Linear(input_size, 8)\n",
    "        self.relu1 = nn.ReLU()\n",
    "        self.linear2 = nn.Linear(8, output_size)\n",
    "\n",
    "    def forward(self, x):\n",
    "        x = self.linear1(x)\n",
    "        x = self.relu1(x)\n",
    "        x = self.linear2(x)\n",
    "        return x\n",
    "\n",
    "    def training_step(self, batch):\n",
    "        inputs, targets = batch\n",
    "        # Generate predictions\n",
    "        out = self(inputs.to(device))\n",
    "        # Calculate loss\n",
    "        loss = F.l1_loss(out.to(device), targets.to(device))\n",
    "        return loss\n",
    "\n",
    "    def validation_step(self, batch):\n",
    "        inputs, targets = batch\n",
    "        # Generate predictions\n",
    "        out = self(inputs.to(device))\n",
    "        # Calculate loss\n",
    "        loss = F.l1_loss(out.to(device), targets.to(device))\n",
    "        return {'val_loss': loss.detach()}\n",
    "\n",
    "    def validation_epoch_end(self, outputs):\n",
    "        batch_losses = [x['val_loss'] for x in outputs]\n",
    "        # Combine losses\n",
    "        epoch_loss = torch.stack(batch_losses).mean()\n",
    "        return {'val_loss': epoch_loss.item()}\n",
    "\n",
    "    def epoch_end(self, epoch, result, num_epochs):\n",
    "        # Print result after 20th epoch\n",
    "        if (epoch + 1) % 500 == 0 or epoch == num_epochs - 1:\n",
    "            print(f'Epoch {epoch + 1}, val_loss {result[\"val_loss\"]}')"
   ],
   "metadata": {
    "collapsed": false,
    "ExecuteTime": {
     "end_time": "2024-06-09T14:44:49.013014200Z",
     "start_time": "2024-06-09T14:44:48.925194600Z"
    }
   },
   "id": "1b1f61afa3cc2884",
   "execution_count": 183
  },
  {
   "cell_type": "code",
   "outputs": [],
   "source": [
    "model = WritingScoreModel(input_size, output_size).to(device)"
   ],
   "metadata": {
    "collapsed": false,
    "ExecuteTime": {
     "end_time": "2024-06-09T14:44:49.055575800Z",
     "start_time": "2024-06-09T14:44:48.938208400Z"
    }
   },
   "id": "cab7dbf350c95646",
   "execution_count": 184
  },
  {
   "cell_type": "code",
   "execution_count": 185,
   "outputs": [
    {
     "data": {
      "text/plain": "  0%|          | 0/25 [00:00<?, ?it/s]",
      "application/vnd.jupyter.widget-view+json": {
       "version_major": 2,
       "version_minor": 0,
       "model_id": "4c985753da0c48699c6f5c3dfcb8311a"
      }
     },
     "metadata": {},
     "output_type": "display_data"
    },
    {
     "name": "stdout",
     "output_type": "stream",
     "text": [
      "Learning rate search finished. See the graph with {finder_name}.plot()\n",
      "LR suggestion: steepest gradient\n",
      "Suggested LR: 6.81E-05\n"
     ]
    },
    {
     "data": {
      "text/plain": "<Figure size 640x480 with 1 Axes>",
      "image/png": "[encoded data removed]"
     },
     "metadata": {},
     "output_type": "display_data"
    }
   ],
   "source": [
    "from torch_lr_finder import LRFinder\n",
    "criterion = torch.nn.CrossEntropyLoss()\n",
    "optimizer = torch.optim.Adam(model.parameters(), lr = 0.00001)\n",
    "lr_finder = LRFinder(model, optimizer, criterion, device) \n",
    "lr_finder.range_test(train_loader, end_lr = 0.001, num_iter = 25)\n",
    "lr_finder.plot()\n",
    "lr_finder.reset()"
   ],
   "metadata": {
    "collapsed": false,
    "ExecuteTime": {
     "end_time": "2024-06-09T14:44:49.250213200Z",
     "start_time": "2024-06-09T14:44:48.954809700Z"
    }
   },
   "id": "b0cf3c9a5c5dc709"
  },
  {
   "cell_type": "code",
   "outputs": [
    {
     "data": {
      "text/plain": "[Parameter containing:\n tensor([[-0.2034,  0.0938,  0.1783, -0.1287, -0.2557, -0.2461,  0.2075,  0.1368,\n          -0.2968,  0.2841,  0.1251],\n         [ 0.2202, -0.1636,  0.1288,  0.1857, -0.0871, -0.1990, -0.0524, -0.0770,\n           0.0273, -0.2969,  0.2150],\n         [ 0.1553,  0.1565, -0.1640,  0.1552, -0.2547,  0.1498,  0.1422, -0.2867,\n          -0.2467, -0.0846,  0.2117],\n         [-0.1128,  0.0684, -0.2753, -0.0029,  0.2647,  0.1872,  0.0562, -0.1091,\n          -0.1001,  0.1886, -0.2852],\n         [ 0.1615, -0.2968, -0.2434,  0.2783,  0.0013, -0.2453, -0.0794, -0.2084,\n          -0.0315, -0.1925,  0.0497],\n         [-0.0807,  0.0717, -0.1305, -0.1696, -0.0453, -0.0458, -0.1235,  0.0562,\n          -0.1487, -0.1967, -0.2264],\n         [-0.1208,  0.2746,  0.1375, -0.1983,  0.0108,  0.1500,  0.2844, -0.1494,\n          -0.1633, -0.3005,  0.0873],\n         [ 0.0290, -0.0357, -0.2548, -0.3000,  0.1806,  0.2416, -0.0227,  0.2819,\n          -0.2266,  0.2047,  0.1637]], requires_grad=True),\n Parameter containing:\n tensor([-0.2879, -0.2116,  0.2079,  0.1234, -0.0472,  0.2566,  0.1061,  0.2787],\n        requires_grad=True),\n Parameter containing:\n tensor([[ 0.2455, -0.0863,  0.2433, -0.3089, -0.0272, -0.0404,  0.3428, -0.0295]],\n        requires_grad=True),\n Parameter containing:\n tensor([-0.3274], requires_grad=True)]"
     },
     "execution_count": 186,
     "metadata": {},
     "output_type": "execute_result"
    }
   ],
   "source": [
    "list(model.parameters())"
   ],
   "metadata": {
    "collapsed": false,
    "ExecuteTime": {
     "end_time": "2024-06-09T14:44:49.265801700Z",
     "start_time": "2024-06-09T14:44:49.249211200Z"
    }
   },
   "id": "472cb50939d29e39",
   "execution_count": 186
  },
  {
   "cell_type": "code",
   "outputs": [],
   "source": [
    "def evaluate(model, val_loader):\n",
    "    outputs = [model.validation_step(batch) for batch in val_loader]\n",
    "    return model.validation_epoch_end(outputs)\n",
    "\n",
    "def fit(epochs, lr, model, train_loader, val_loader, opt_func=optim.SGD) -> list:\n",
    "    history = []\n",
    "    optimizer = opt_func(model.parameters(), lr)\n",
    "    for epoch in range(epochs):\n",
    "        # Training phase\n",
    "        for batch in train_loader:\n",
    "            loss = model.training_step(batch)\n",
    "            loss.backward()\n",
    "            optimizer.step()\n",
    "            optimizer.zero_grad()\n",
    "        # Validation phase\n",
    "        result = evaluate(model, val_loader)\n",
    "        model.epoch_end(epoch, result, epochs)\n",
    "        history.append(result)\n",
    "    return history"
   ],
   "metadata": {
    "collapsed": false,
    "ExecuteTime": {
     "end_time": "2024-06-09T14:44:49.338486700Z",
     "start_time": "2024-06-09T14:44:49.264800300Z"
    }
   },
   "id": "e9318a481b710224",
   "execution_count": 187
  },
  {
   "cell_type": "code",
   "outputs": [
    {
     "name": "stdout",
     "output_type": "stream",
     "text": [
      "{'val_loss': 60.23525619506836}\n"
     ]
    }
   ],
   "source": [
    "result = evaluate(model, val_loader)\n",
    "print(result)"
   ],
   "metadata": {
    "collapsed": false,
    "ExecuteTime": {
     "end_time": "2024-06-09T14:44:49.358933600Z",
     "start_time": "2024-06-09T14:44:49.279323900Z"
    }
   },
   "id": "312f72114d04a0e2",
   "execution_count": 188
  },
  {
   "cell_type": "code",
   "outputs": [],
   "source": [
    "# model = WritingScoreModel()"
   ],
   "metadata": {
    "collapsed": false,
    "ExecuteTime": {
     "end_time": "2024-06-09T14:44:49.400565800Z",
     "start_time": "2024-06-09T14:44:49.356434100Z"
    }
   },
   "id": "cd1f11f8e74a847",
   "execution_count": 189
  },
  {
   "cell_type": "code",
   "outputs": [
    {
     "name": "stdout",
     "output_type": "stream",
     "text": [
      "Epoch 500, val_loss 11.141196250915527\n",
      "Epoch 1000, val_loss 11.139250755310059\n",
      "Epoch 1500, val_loss 11.136395454406738\n",
      "Epoch 2000, val_loss 11.11983871459961\n"
     ]
    }
   ],
   "source": [
    "epochs = 2000\n",
    "lr = 6.81E-05\n",
    "history = fit(epochs, lr, model, train_loader, val_loader)"
   ],
   "metadata": {
    "collapsed": false,
    "ExecuteTime": {
     "end_time": "2024-06-09T15:02:51.176800800Z",
     "start_time": "2024-06-09T14:44:49.371948200Z"
    }
   },
   "id": "e5a427e66ffa36b0",
   "execution_count": 190
  },
  {
   "cell_type": "code",
   "outputs": [
    {
     "data": {
      "text/plain": "{'val_loss': 11.11983871459961}"
     },
     "execution_count": 191,
     "metadata": {},
     "output_type": "execute_result"
    }
   ],
   "source": [
    "val_loss = history[-1]\n",
    "val_loss"
   ],
   "metadata": {
    "collapsed": false,
    "ExecuteTime": {
     "end_time": "2024-06-09T15:02:51.190403700Z",
     "start_time": "2024-06-09T15:02:51.174799500Z"
    }
   },
   "id": "41d9ee5a080b580d",
   "execution_count": 191
  },
  {
   "cell_type": "code",
   "outputs": [],
   "source": [
    "def predict_single(input, target, model):\n",
    "    inputs = input.unsqueeze(0)\n",
    "    predictions = model(inputs.to(device))\n",
    "    prediction = predictions[0].detach()\n",
    "    print(f'Input: {input}')\n",
    "    print(f'Target: {target}')\n",
    "    print(f'Prediction: {prediction}')"
   ],
   "metadata": {
    "collapsed": false,
    "ExecuteTime": {
     "end_time": "2024-06-09T15:02:51.208423Z",
     "start_time": "2024-06-09T15:02:51.190403700Z"
    }
   },
   "id": "3e1facda3fe93f79",
   "execution_count": 192
  },
  {
   "cell_type": "code",
   "outputs": [
    {
     "name": "stdout",
     "output_type": "stream",
     "text": [
      "<class 'torch.utils.data.dataset.Subset'>\n",
      "Input: tensor([0., 3., 4., 0., 0., 0., 1., 1., 1., 0., 2.])\n",
      "Target: tensor([85.])\n",
      "Prediction: tensor([63.0443])\n"
     ]
    }
   ],
   "source": [
    "input, target = val_ds[5]\n",
    "print(type(val_ds))\n",
    "predict_single(input, target, model)"
   ],
   "metadata": {
    "collapsed": false,
    "ExecuteTime": {
     "end_time": "2024-06-09T15:02:51.220067Z",
     "start_time": "2024-06-09T15:02:51.206413200Z"
    }
   },
   "id": "8991f3b994b1dbf",
   "execution_count": 193
  },
  {
   "cell_type": "code",
   "outputs": [
    {
     "name": "stdout",
     "output_type": "stream",
     "text": [
      "Input: tensor([ 1., -1.,  4.,  0.,  1.,  2.,  2.,  1.,  1.,  1., -1.])\n",
      "Target: tensor([32.])\n",
      "Prediction: tensor([41.9930])\n"
     ]
    }
   ],
   "source": [
    "input, target = val_ds[10]\n",
    "predict_single(input, target, model)"
   ],
   "metadata": {
    "collapsed": false,
    "ExecuteTime": {
     "end_time": "2024-06-09T15:02:51.247045400Z",
     "start_time": "2024-06-09T15:02:51.221563800Z"
    }
   },
   "id": "9a3d840f1e7c90dc",
   "execution_count": 194
  },
  {
   "cell_type": "code",
   "outputs": [
    {
     "name": "stdout",
     "output_type": "stream",
     "text": [
      "Input: tensor([ 1.,  3.,  2.,  1.,  1.,  1.,  2.,  1.,  2.,  0., -1.])\n",
      "Target: tensor([64.])\n",
      "Prediction: tensor([58.1582])\n"
     ]
    }
   ],
   "source": [
    "input,target = val_ds[13]\n",
    "predict_single(input, target, model)"
   ],
   "metadata": {
    "collapsed": false,
    "ExecuteTime": {
     "end_time": "2024-06-09T15:02:51.254137300Z",
     "start_time": "2024-06-09T15:02:51.236074Z"
    }
   },
   "id": "f3c3418bd2fe37a0",
   "execution_count": 195
  },
  {
   "cell_type": "code",
   "outputs": [
    {
     "name": "stdout",
     "output_type": "stream",
     "text": [
      "Input: tensor([ 1.,  0.,  1.,  1.,  1.,  2.,  0.,  1., -1.,  0.,  1.])\n",
      "Target: tensor([71.])\n",
      "Prediction: tensor([53.8878])\n"
     ]
    }
   ],
   "source": [
    "input,target = val_ds[54]\n",
    "predict_single(input, target, model)"
   ],
   "metadata": {
    "collapsed": false,
    "ExecuteTime": {
     "end_time": "2024-06-09T15:02:51.267154700Z",
     "start_time": "2024-06-09T15:02:51.252632Z"
    }
   },
   "id": "baa2d120d94820c0",
   "execution_count": 196
  },
  {
   "cell_type": "code",
   "outputs": [
    {
     "name": "stdout",
     "output_type": "stream",
     "text": [
      "Input: tensor([0., 2., 2., 0., 1., 1., 1., 0., 1., 1., 0.])\n",
      "Target: tensor([57.])\n",
      "Prediction: tensor([56.7541])\n"
     ]
    }
   ],
   "source": [
    "input,target = val_ds[87]\n",
    "predict_single(input, target, model)"
   ],
   "metadata": {
    "collapsed": false,
    "ExecuteTime": {
     "end_time": "2024-06-09T15:02:51.295321900Z",
     "start_time": "2024-06-09T15:02:51.268653900Z"
    }
   },
   "id": "1c0dfa5911920fed",
   "execution_count": 197
  },
  {
   "cell_type": "code",
   "execution_count": 198,
   "outputs": [],
   "source": [
    "torch.save(model, './data/writing_score_model.pt')"
   ],
   "metadata": {
    "collapsed": false,
    "ExecuteTime": {
     "end_time": "2024-06-09T15:02:51.298823Z",
     "start_time": "2024-06-09T15:02:51.284803300Z"
    }
   },
   "id": "4afb3752e6b67ad"
  },
  {
   "cell_type": "code",
   "execution_count": 199,
   "outputs": [
    {
     "name": "stdout",
     "output_type": "stream",
     "text": [
      "(tensor([0., 2., 2., 0., 1., 1., 1., 0., 1., 1., 0.]), tensor([57.]))\n",
      "<class 'tuple'>\n"
     ]
    }
   ],
   "source": [
    "print(val_ds[87])\n",
    "print(type(val_ds[87]))"
   ],
   "metadata": {
    "collapsed": false,
    "ExecuteTime": {
     "end_time": "2024-06-09T15:02:51.342151100Z",
     "start_time": "2024-06-09T15:02:51.298823Z"
    }
   },
   "id": "c294d73f538a356a"
  },
  {
   "cell_type": "code",
   "execution_count": 200,
   "outputs": [],
   "source": [
    "model_input = torch.tensor([1., 2., 5., 0., 1., 2., 0., 1., 1., 1., 0.], dtype=torch.float32)"
   ],
   "metadata": {
    "collapsed": false,
    "ExecuteTime": {
     "end_time": "2024-06-09T15:02:51.344766600Z",
     "start_time": "2024-06-09T15:02:51.334154600Z"
    }
   },
   "id": "1a38a937057f1543"
  },
  {
   "cell_type": "code",
   "execution_count": 201,
   "outputs": [
    {
     "data": {
      "text/plain": "45.27764892578125"
     },
     "execution_count": 201,
     "metadata": {},
     "output_type": "execute_result"
    }
   ],
   "source": [
    "output = model(model_input)\n",
    "float(output[0])"
   ],
   "metadata": {
    "collapsed": false,
    "ExecuteTime": {
     "end_time": "2024-06-09T15:02:51.370780400Z",
     "start_time": "2024-06-09T15:02:51.346267Z"
    }
   },
   "id": "ac897fedc77e33d5"
  }
 ],
 "metadata": {
  "kernelspec": {
   "display_name": "Python 3",
   "language": "python",
   "name": "python3"
  },
  "language_info": {
   "codemirror_mode": {
    "name": "ipython",
    "version": 2
   },
   "file_extension": ".py",
   "mimetype": "text/x-python",
   "name": "python",
   "nbconvert_exporter": "python",
   "pygments_lexer": "ipython2",
   "version": "2.7.6"
  }
 },
 "nbformat": 4,
 "nbformat_minor": 5
}
